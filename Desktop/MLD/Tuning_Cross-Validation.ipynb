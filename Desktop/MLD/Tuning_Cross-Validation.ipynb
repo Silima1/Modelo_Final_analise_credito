{
 "cells": [
  {
   "cell_type": "markdown",
   "id": "76fecbcc",
   "metadata": {},
   "source": [
    "# Tuning dos parametros com GridSearch"
   ]
  },
  {
   "cell_type": "code",
   "execution_count": 3,
   "id": "2014ac88",
   "metadata": {},
   "outputs": [],
   "source": [
    "# para fazer pesquisa em grade em combinar os parametros CV(Cross-validation) e importacao dos algoritmos a ser trabalhados\n",
    "from sklearn.model_selection import GridSearchCV \n",
    "from sklearn.tree import DecisionTreeClassifier\n",
    "from sklearn.ensemble import RandomForestClassifier\n",
    "from sklearn.neighbors import KNeighborsClassifier\n",
    "from sklearn.linear_model import LinearRegression\n",
    "from sklearn.svm import SVC\n",
    "from sklearn.neural_network import MLPClassifier\n",
    "import pickle"
   ]
  },
  {
   "cell_type": "code",
   "execution_count": 4,
   "id": "2ceb632f",
   "metadata": {},
   "outputs": [],
   "source": [
    "with open('Credito.pkl', 'rb') as f: #Carregamento dos dados\n",
    "    X_credit_treinamento, y_credit_treinamento, X_credit_teste, y_credit_teste = pickle.load(f)"
   ]
  },
  {
   "cell_type": "code",
   "execution_count": 5,
   "id": "dcaf6ceb",
   "metadata": {},
   "outputs": [
    {
     "data": {
      "text/plain": [
       "((1500, 3), (1500,))"
      ]
     },
     "execution_count": 5,
     "metadata": {},
     "output_type": "execute_result"
    }
   ],
   "source": [
    "X_credit_treinamento.shape, y_credit_treinamento.shape"
   ]
  },
  {
   "cell_type": "code",
   "execution_count": 6,
   "id": "e2ce502b",
   "metadata": {},
   "outputs": [
    {
     "data": {
      "text/plain": [
       "((500, 3), (500,))"
      ]
     },
     "execution_count": 6,
     "metadata": {},
     "output_type": "execute_result"
    }
   ],
   "source": [
    "X_credit_teste.shape, y_credit_teste.shape"
   ]
  },
  {
   "cell_type": "code",
   "execution_count": 11,
   "id": "5c66cdb2",
   "metadata": {},
   "outputs": [],
   "source": [
    "#Criacao da variavel para concatenacao dos dados previsores\n",
    "X_concatenado = np.concatenate((X_credit_treinamento, X_credit_teste), axis=0) # 0 para concatenar linhas"
   ]
  },
  {
   "cell_type": "code",
   "execution_count": 16,
   "id": "fe0923c2",
   "metadata": {},
   "outputs": [
    {
     "data": {
      "text/plain": [
       "(2000, 3)"
      ]
     },
     "execution_count": 16,
     "metadata": {},
     "output_type": "execute_result"
    }
   ],
   "source": [
    "X_concatenado.shape"
   ]
  },
  {
   "cell_type": "code",
   "execution_count": 18,
   "id": "462aee9f",
   "metadata": {},
   "outputs": [
    {
     "data": {
      "text/plain": [
       "array([[-1.3754462 ,  0.50631087,  0.10980934],\n",
       "       [ 1.45826409, -1.6489393 , -1.21501497],\n",
       "       [-0.79356829,  0.22531191, -0.43370226],\n",
       "       ...,\n",
       "       [ 1.37445674, -1.05746281, -1.12564819],\n",
       "       [-1.57087737, -0.63488173, -0.36981671],\n",
       "       [-1.03572293, -0.93978122,  0.04244312]])"
      ]
     },
     "execution_count": 18,
     "metadata": {},
     "output_type": "execute_result"
    }
   ],
   "source": [
    "X_concatenado"
   ]
  },
  {
   "cell_type": "code",
   "execution_count": 12,
   "id": "1ad752b2",
   "metadata": {},
   "outputs": [],
   "source": [
    "Y_concatenado = np.concatenate((y_credit_treinamento, y_credit_teste), axis=0)"
   ]
  },
  {
   "cell_type": "code",
   "execution_count": 17,
   "id": "5efb659e",
   "metadata": {},
   "outputs": [
    {
     "data": {
      "text/plain": [
       "(2000,)"
      ]
     },
     "execution_count": 17,
     "metadata": {},
     "output_type": "execute_result"
    }
   ],
   "source": [
    "Y_concatenado.shape"
   ]
  },
  {
   "cell_type": "code",
   "execution_count": 19,
   "id": "c63568c2",
   "metadata": {},
   "outputs": [
    {
     "data": {
      "text/plain": [
       "array([0, 0, 0, ..., 0, 1, 1], dtype=int64)"
      ]
     },
     "execution_count": 19,
     "metadata": {},
     "output_type": "execute_result"
    }
   ],
   "source": [
    "Y_concatenado"
   ]
  },
  {
   "cell_type": "code",
   "execution_count": null,
   "id": "89b1650a",
   "metadata": {},
   "outputs": [],
   "source": []
  }
 ],
 "metadata": {
  "kernelspec": {
   "display_name": "Python 3 (ipykernel)",
   "language": "python",
   "name": "python3"
  },
  "language_info": {
   "codemirror_mode": {
    "name": "ipython",
    "version": 3
   },
   "file_extension": ".py",
   "mimetype": "text/x-python",
   "name": "python",
   "nbconvert_exporter": "python",
   "pygments_lexer": "ipython3",
   "version": "3.9.12"
  }
 },
 "nbformat": 4,
 "nbformat_minor": 5
}
