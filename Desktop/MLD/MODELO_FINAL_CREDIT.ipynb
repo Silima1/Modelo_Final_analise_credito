{
 "cells": [
  {
   "cell_type": "markdown",
   "id": "b18e91c3",
   "metadata": {},
   "source": [
    "# SALVAR UM CLASSIFICADOR TREINADO para uso no front-end"
   ]
  },
  {
   "cell_type": "code",
   "execution_count": 4,
   "id": "6aeeb190",
   "metadata": {},
   "outputs": [],
   "source": [
    "# CARREGAMENTO DO MODELO\n",
    "import pickle\n",
    "with open('Credito.pkl', 'rb') as f:\n",
    "    X_credit_treinamento, y_credit_treinamento, X_credit_teste, y_credit_teste = pickle.load(f)"
   ]
  },
  {
   "cell_type": "code",
   "execution_count": 5,
   "id": "67847aad",
   "metadata": {},
   "outputs": [
    {
     "data": {
      "text/plain": [
       "((1500, 3), (1500,))"
      ]
     },
     "execution_count": 5,
     "metadata": {},
     "output_type": "execute_result"
    }
   ],
   "source": [
    "X_credit_treinamento.shape, y_credit_treinamento.shape"
   ]
  },
  {
   "cell_type": "code",
   "execution_count": 6,
   "id": "d4bddcc8",
   "metadata": {},
   "outputs": [
    {
     "data": {
      "text/plain": [
       "((500, 3), (500,))"
      ]
     },
     "execution_count": 6,
     "metadata": {},
     "output_type": "execute_result"
    }
   ],
   "source": [
    "X_credit_teste.shape, y_credit_teste.shape"
   ]
  },
  {
   "cell_type": "code",
   "execution_count": 7,
   "id": "7ce1716a",
   "metadata": {},
   "outputs": [],
   "source": [
    "# UNIR OS DADOS \n",
    "import numpy as np\n",
    "X_credit = np.concatenate((X_credit_treinamento, X_credit_teste), axis=0)\n",
    "y_credit = np.concatenate((y_credit_treinamento, y_credit_teste), axis=0)"
   ]
  },
  {
   "cell_type": "code",
   "execution_count": 8,
   "id": "44db1af5",
   "metadata": {},
   "outputs": [
    {
     "data": {
      "text/plain": [
       "((2000, 3), (2000,))"
      ]
     },
     "execution_count": 8,
     "metadata": {},
     "output_type": "execute_result"
    }
   ],
   "source": [
    "# Verificar apos a uniao dos dados\n",
    "X_credit.shape, y_credit.shape"
   ]
  },
  {
   "cell_type": "code",
   "execution_count": 9,
   "id": "5138aefa",
   "metadata": {},
   "outputs": [],
   "source": [
    "# importacao dos algoritmos selecionados como melhores\n",
    "from sklearn.neural_network import MLPClassifier\n",
    "from sklearn.tree import DecisionTreeClassifier\n",
    "from sklearn.svm import SVC"
   ]
  },
  {
   "cell_type": "code",
   "execution_count": 10,
   "id": "1c35874f",
   "metadata": {},
   "outputs": [
    {
     "name": "stderr",
     "output_type": "stream",
     "text": [
      "C:\\Users\\LeonelSilima\\anaconda3\\lib\\site-packages\\sklearn\\neural_network\\_multilayer_perceptron.py:692: ConvergenceWarning: Stochastic Optimizer: Maximum iterations (200) reached and the optimization hasn't converged yet.\n",
      "  warnings.warn(\n"
     ]
    },
    {
     "data": {
      "text/plain": [
       "MLPClassifier(batch_size=56)"
      ]
     },
     "execution_count": 10,
     "metadata": {},
     "output_type": "execute_result"
    }
   ],
   "source": [
    "# Treinamento da rede neural com as metricas selecionadas \n",
    "classficador_rede_neural = MLPClassifier(activation='relu', batch_size=56, solver='adam')\n",
    "classficador_rede_neural.fit(X_credit, y_credit)"
   ]
  },
  {
   "cell_type": "code",
   "execution_count": 11,
   "id": "0a025857",
   "metadata": {},
   "outputs": [
    {
     "data": {
      "text/plain": [
       "DecisionTreeClassifier(criterion='entropy', min_samples_split=5)"
      ]
     },
     "execution_count": 11,
     "metadata": {},
     "output_type": "execute_result"
    }
   ],
   "source": [
    "# Treinamento com Arvor de decisao\n",
    "classificador_arvore = DecisionTreeClassifier(criterion='entropy', min_samples_leaf=1, min_samples_split=5, splitter='best')\n",
    "classificador_arvore.fit(X_credit, y_credit)"
   ]
  },
  {
   "cell_type": "code",
   "execution_count": 86,
   "id": "7aade43f",
   "metadata": {},
   "outputs": [
    {
     "data": {
      "text/plain": [
       "SVC(C=2.0, probability=True)"
      ]
     },
     "execution_count": 86,
     "metadata": {},
     "output_type": "execute_result"
    }
   ],
   "source": [
    "#Treinamento com SVM\n",
    "classificador_SVM = SVC(C=2.0, kernel='rbf', probability=True)\n",
    "classificador_SVM.fit(X_credit, y_credit)"
   ]
  },
  {
   "cell_type": "code",
   "execution_count": 87,
   "id": "86355013",
   "metadata": {},
   "outputs": [],
   "source": [
    "# SALVAR OS CLASSIFICADOR\n",
    "import pickle\n",
    "pickle.dump(classficador_rede_neural, open('NEURAL_NETWORK_finalizado.sav', 'wb'))\n",
    "pickle.dump(classificador_arvore, open('DECISION_TREE_finalizado.sav', 'wb'))\n",
    "pickle.dump(classificador_SVM, open('SVM_finalizado.sav', 'wb'))"
   ]
  },
  {
   "cell_type": "markdown",
   "id": "e092f3a4",
   "metadata": {},
   "source": [
    "# CARREGAR CLASSIFICADOR TREINADO E TESTAR O FUNCIONAMENTO"
   ]
  },
  {
   "cell_type": "code",
   "execution_count": 88,
   "id": "53f7d8ec",
   "metadata": {},
   "outputs": [],
   "source": [
    "#carregamento dos modelos\n",
    "import pickle\n",
    "rede_neural = pickle.load(open('rede_neural_finalizado.sav', 'rb'))\n",
    "arvore = pickle.load(open('arvore_finalizado.sav', 'rb'))\n",
    "SVM = pickle.load(open('SVM_finalizado.sav', 'rb'))"
   ]
  },
  {
   "cell_type": "code",
   "execution_count": 15,
   "id": "eb29212c",
   "metadata": {},
   "outputs": [
    {
     "data": {
      "text/plain": [
       "array([ 0.33102925, -0.59722855,  1.1969192 ])"
      ]
     },
     "execution_count": 15,
     "metadata": {},
     "output_type": "execute_result"
    }
   ],
   "source": [
    "# Simulacao de funcionamento\n",
    "novo_registo = X_credit[1990] # A POSICAO DAS CARATERISTICAS DO CLIENTE\n",
    "novo_registo"
   ]
  },
  {
   "cell_type": "code",
   "execution_count": 16,
   "id": "40419017",
   "metadata": {},
   "outputs": [
    {
     "data": {
      "text/plain": [
       "(3,)"
      ]
     },
     "execution_count": 16,
     "metadata": {},
     "output_type": "execute_result"
    }
   ],
   "source": [
    "novo_registo.shape"
   ]
  },
  {
   "cell_type": "code",
   "execution_count": 17,
   "id": "262e1b9c",
   "metadata": {},
   "outputs": [
    {
     "data": {
      "text/plain": [
       "(1, 3)"
      ]
     },
     "execution_count": 17,
     "metadata": {},
     "output_type": "execute_result"
    }
   ],
   "source": [
    "novo_registo = novo_registo.reshape(1, -1)\n",
    "novo_registo.shape"
   ]
  },
  {
   "cell_type": "code",
   "execution_count": 18,
   "id": "9b801f03",
   "metadata": {},
   "outputs": [
    {
     "data": {
      "text/plain": [
       "array([1], dtype=int64)"
      ]
     },
     "execution_count": 18,
     "metadata": {},
     "output_type": "execute_result"
    }
   ],
   "source": [
    "rede_neural.predict(novo_registo) # 1 Corresponde ao cliente que NAO paga a divida"
   ]
  },
  {
   "cell_type": "code",
   "execution_count": 19,
   "id": "2866356c",
   "metadata": {},
   "outputs": [
    {
     "data": {
      "text/plain": [
       "array([1], dtype=int64)"
      ]
     },
     "execution_count": 19,
     "metadata": {},
     "output_type": "execute_result"
    }
   ],
   "source": [
    "arvore.predict(novo_registo) # 1 Corresponde ao cliente que NAO paga a divida"
   ]
  },
  {
   "cell_type": "code",
   "execution_count": 20,
   "id": "90f7d330",
   "metadata": {},
   "outputs": [
    {
     "data": {
      "text/plain": [
       "array([1], dtype=int64)"
      ]
     },
     "execution_count": 20,
     "metadata": {},
     "output_type": "execute_result"
    }
   ],
   "source": [
    "SVM.predict(novo_registo) # 0 Corresponde ao cliente que PAGA a divida LOGO este algoritmo apresenta incosistencias"
   ]
  },
  {
   "cell_type": "markdown",
   "id": "790086da",
   "metadata": {},
   "source": [
    "# COMBINACAO DE CLASSIFICADORES"
   ]
  },
  {
   "cell_type": "code",
   "execution_count": 121,
   "id": "fc1d5f96",
   "metadata": {},
   "outputs": [
    {
     "data": {
      "text/plain": [
       "(array([[-1.3754462 ,  0.50631087,  0.10980934]]), (1, 3))"
      ]
     },
     "execution_count": 121,
     "metadata": {},
     "output_type": "execute_result"
    }
   ],
   "source": [
    "# PREVISAO DOS ALGORITMOS\n",
    "novo_registo = X_credit[0] # POSICAO DOS DADOS A PREVER O RESULTADO - HISTORICOS\n",
    "novo_registo = novo_registo.reshape(1, -1) # PARA COLOCAR NO FORMATO DE MATRIZ\n",
    "novo_registo, novo_registo.shape"
   ]
  },
  {
   "cell_type": "code",
   "execution_count": 122,
   "id": "1cb07c70",
   "metadata": {},
   "outputs": [],
   "source": [
    "resposta_rede_neural = rede_neural.predict(novo_registo)\n",
    "resposta_arvore = arvore.predict(novo_registo)\n",
    "resposta_SVM = SVM.predict(novo_registo)"
   ]
  },
  {
   "cell_type": "code",
   "execution_count": 123,
   "id": "a53278b3",
   "metadata": {},
   "outputs": [
    {
     "data": {
      "text/plain": [
       "(0, 0, 0)"
      ]
     },
     "execution_count": 123,
     "metadata": {},
     "output_type": "execute_result"
    }
   ],
   "source": [
    "resposta_rede_neural[0], resposta_arvore[0], resposta_SVM[0] # TODOS CLASSIFICADORES INDICAM QUE OS CLIENTES PAGAM O EMPRESTIMO"
   ]
  },
  {
   "cell_type": "markdown",
   "id": "f8383e89",
   "metadata": {},
   "source": [
    "# CRIANDO RESULTADOS PARA UTILIZADOR"
   ]
  },
  {
   "cell_type": "code",
   "execution_count": 140,
   "id": "ee9cf697",
   "metadata": {},
   "outputs": [
    {
     "name": "stdout",
     "output_type": "stream",
     "text": [
      "O CLIENTE PAGARA O EMPRESTIMO\n"
     ]
    }
   ],
   "source": [
    "paga = 0\n",
    "nao_paga = 1\n",
    "\n",
    "if resposta_rede_neural[0] == 1:\n",
    "    nao_paga +=1\n",
    "else:\n",
    "    paga +=1\n",
    "if resposta_arvore[0] == 1:\n",
    "    nao_paga +=1\n",
    "else:\n",
    "    paga +=1\n",
    "if resposta_SVM[0] == 1:\n",
    "    nao_paga +=1\n",
    "else:\n",
    "    paga +=1\n",
    "if paga > nao_paga:\n",
    "    texto = ('O cliente pagara o emprestimo')\n",
    "    texto = texto.upper()\n",
    "    print(texto)\n",
    "elif paga == nao_paga:\n",
    "    print('Empate, mais garantias devem ser revisto')\n",
    "else:\n",
    "    print('O cliente nao paga emprestimo')"
   ]
  },
  {
   "cell_type": "markdown",
   "id": "3a8f0d41",
   "metadata": {},
   "source": [
    "# REJEICAO DA PROBABILIDADE"
   ]
  },
  {
   "cell_type": "code",
   "execution_count": 142,
   "id": "a8f5c9e5",
   "metadata": {},
   "outputs": [
    {
     "data": {
      "text/plain": [
       "(array([[-1.37924999,  0.83062478, -0.82824438]]), (1, 3))"
      ]
     },
     "execution_count": 142,
     "metadata": {},
     "output_type": "execute_result"
    }
   ],
   "source": [
    "novo_registo = X_credit[1991] # POSICAO DOS DADOS A PREVER O RESULTADO - HISTORICOS\n",
    "novo_registo = novo_registo.reshape(1, -1) # PARA COLOCAR NO FORMATO DE MATRIZ\n",
    "novo_registo, novo_registo.shape"
   ]
  },
  {
   "cell_type": "code",
   "execution_count": 126,
   "id": "8aec6dbf",
   "metadata": {},
   "outputs": [],
   "source": [
    "resposta_rede_neural = rede_neural.predict(novo_registo)\n",
    "resposta_arvore = arvore.predict(novo_registo)\n",
    "resposta_SVM = SVM.predict(novo_registo)"
   ]
  },
  {
   "cell_type": "code",
   "execution_count": 127,
   "id": "a60326c2",
   "metadata": {},
   "outputs": [
    {
     "data": {
      "text/plain": [
       "(0, 0, 0)"
      ]
     },
     "execution_count": 127,
     "metadata": {},
     "output_type": "execute_result"
    }
   ],
   "source": [
    "resposta_rede_neural[0], resposta_arvore[0], resposta_SVM[0] # TODOS CLASSIFICADORES INDICAM QUE OS CLIENTES PAGAM O EMPRESTIMO"
   ]
  },
  {
   "cell_type": "code",
   "execution_count": 128,
   "id": "6297c3b3",
   "metadata": {},
   "outputs": [
    {
     "data": {
      "text/plain": [
       "array([[1.00000000e+00, 8.10398435e-22]])"
      ]
     },
     "execution_count": 128,
     "metadata": {},
     "output_type": "execute_result"
    }
   ],
   "source": [
    "probabilidade_rede_neural = rede_neural.predict_proba(novo_registo) # Visualizacao das probabilidades das classes\n",
    "probabilidade_rede_neural "
   ]
  },
  {
   "cell_type": "code",
   "execution_count": 129,
   "id": "6aac8ed6",
   "metadata": {},
   "outputs": [
    {
     "data": {
      "text/plain": [
       "1.0"
      ]
     },
     "execution_count": 129,
     "metadata": {},
     "output_type": "execute_result"
    }
   ],
   "source": [
    "confianca_rede_neural = probabilidade_rede_neural.max() # para verificar a confianca da probabilidade\n",
    "confianca_rede_neural"
   ]
  },
  {
   "cell_type": "code",
   "execution_count": 130,
   "id": "a0a048f7",
   "metadata": {},
   "outputs": [
    {
     "data": {
      "text/plain": [
       "array([[1., 0.]])"
      ]
     },
     "execution_count": 130,
     "metadata": {},
     "output_type": "execute_result"
    }
   ],
   "source": [
    "probabilidade_arvore = arvore.predict_proba(novo_registo) #100% de probabilidade dar certo\n",
    "probabilidade_arvore"
   ]
  },
  {
   "cell_type": "code",
   "execution_count": 131,
   "id": "c85a0ddc",
   "metadata": {},
   "outputs": [
    {
     "data": {
      "text/plain": [
       "1.0"
      ]
     },
     "execution_count": 131,
     "metadata": {},
     "output_type": "execute_result"
    }
   ],
   "source": [
    "confianca_arvore = probabilidade_arvore.max() # para verificar a confianca da probabilidade\n",
    "confianca_arvore"
   ]
  },
  {
   "cell_type": "code",
   "execution_count": 132,
   "id": "37ebeb41",
   "metadata": {},
   "outputs": [
    {
     "data": {
      "text/plain": [
       "array([[1., 0.]])"
      ]
     },
     "execution_count": 132,
     "metadata": {},
     "output_type": "execute_result"
    }
   ],
   "source": [
    "probabilidade_SVM = SVM.predict_proba(novo_registo)\n",
    "probabilidade_arvore"
   ]
  },
  {
   "cell_type": "code",
   "execution_count": 133,
   "id": "30733aad",
   "metadata": {},
   "outputs": [
    {
     "data": {
      "text/plain": [
       "0.9999991935649787"
      ]
     },
     "execution_count": 133,
     "metadata": {},
     "output_type": "execute_result"
    }
   ],
   "source": [
    "confianca_SVM = probabilidade_SVM.max() # para verificar a confianca da probabilidade\n",
    "confianca_SVM"
   ]
  },
  {
   "cell_type": "code",
   "execution_count": 135,
   "id": "51655a8d",
   "metadata": {},
   "outputs": [
    {
     "name": "stdout",
     "output_type": "stream",
     "text": [
      "O CLIENTE PAGARA O EMPRESTIMO BASEADO EM 2 ALGORITMOS\n"
     ]
    }
   ],
   "source": [
    "paga = 0\n",
    "nao_paga = 1\n",
    "confianca_minima = 0.9999999999\n",
    "algoritmos = 0 # para identificar quantos algoritmos foram utilizados\n",
    "\n",
    "if confianca_rede_neural >= confianca_minima:\n",
    "    algoritmos += 1\n",
    "    if resposta_rede_neural[0] == 1:\n",
    "        nao_paga +=1\n",
    "    else:\n",
    "        paga +=1\n",
    "if confianca_arvore >= confianca_minima:\n",
    "    algoritmos += 1\n",
    "    if resposta_arvore[0] == 1:\n",
    "        nao_paga +=1\n",
    "    else:\n",
    "        paga +=1\n",
    "if confianca_SVM >= confianca_minima:\n",
    "    algoritmos += 1\n",
    "    if resposta_SVM[0] == 1:\n",
    "        nao_paga +=1\n",
    "    else:\n",
    "        paga +=1\n",
    "if paga > nao_paga:\n",
    "        texto = ('O cliente pagara o emprestimo baseado em {} Algoritmos' .format(algoritmos))\n",
    "        texto = texto.upper()\n",
    "        print(texto)\n",
    "elif paga == nao_paga:\n",
    "    print('Empate, mais garantias devem ser revisto')\n",
    "else:\n",
    "    print('O cliente nao paga emprestimo')"
   ]
  },
  {
   "cell_type": "code",
   "execution_count": null,
   "id": "7e511a88",
   "metadata": {},
   "outputs": [],
   "source": []
  },
  {
   "cell_type": "code",
   "execution_count": null,
   "id": "f30f5ff8",
   "metadata": {},
   "outputs": [],
   "source": []
  },
  {
   "cell_type": "code",
   "execution_count": null,
   "id": "d4edca1f",
   "metadata": {},
   "outputs": [],
   "source": []
  }
 ],
 "metadata": {
  "kernelspec": {
   "display_name": "Python 3 (ipykernel)",
   "language": "python",
   "name": "python3"
  },
  "language_info": {
   "codemirror_mode": {
    "name": "ipython",
    "version": 3
   },
   "file_extension": ".py",
   "mimetype": "text/x-python",
   "name": "python",
   "nbconvert_exporter": "python",
   "pygments_lexer": "ipython3",
   "version": "3.9.12"
  }
 },
 "nbformat": 4,
 "nbformat_minor": 5
}
